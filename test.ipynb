{
 "cells": [
  {
   "cell_type": "code",
   "execution_count": 20,
   "metadata": {},
   "outputs": [],
   "source": [
    "import requests\n",
    "import defs\n",
    "import pandas as pd"
   ]
  },
  {
   "cell_type": "code",
   "execution_count": 6,
   "metadata": {},
   "outputs": [],
   "source": [
    "session = requests.Session()"
   ]
  },
  {
   "cell_type": "code",
   "execution_count": 1,
   "metadata": {},
   "outputs": [],
   "source": [
    "instrument = 'EUR_USD'\n",
    "count = 10\n",
    "granularity = 'H1'"
   ]
  },
  {
   "cell_type": "code",
   "execution_count": 4,
   "metadata": {},
   "outputs": [],
   "source": [
    "url = f\"{defs.OANDA_URL}/instruments/{instrument}/candles\""
   ]
  },
  {
   "cell_type": "code",
   "execution_count": 5,
   "metadata": {},
   "outputs": [
    {
     "data": {
      "text/plain": [
       "'https://api-fxpractice.oanda.com/v3/instruments/EUR_USD/candles'"
      ]
     },
     "execution_count": 5,
     "metadata": {},
     "output_type": "execute_result"
    }
   ],
   "source": [
    "url\n"
   ]
  },
  {
   "cell_type": "code",
   "execution_count": 12,
   "metadata": {},
   "outputs": [],
   "source": [
    "params = dict(\n",
    "    count = count, \n",
    "    granularity = granularity,\n",
    "    price = \"MBA\"\n",
    ")"
   ]
  },
  {
   "cell_type": "code",
   "execution_count": 11,
   "metadata": {},
   "outputs": [
    {
     "data": {
      "text/plain": [
       "{'count': 10, 'granularity': 'H1', 'price': 'MBA'}"
      ]
     },
     "execution_count": 11,
     "metadata": {},
     "output_type": "execute_result"
    }
   ],
   "source": [
    "param"
   ]
  },
  {
   "cell_type": "code",
   "execution_count": 13,
   "metadata": {},
   "outputs": [],
   "source": [
    "response = session.get( url, params=params, headers=defs.SECURE_HEADER )"
   ]
  },
  {
   "cell_type": "code",
   "execution_count": 23,
   "metadata": {},
   "outputs": [
    {
     "data": {
      "text/plain": [
       "200"
      ]
     },
     "execution_count": 23,
     "metadata": {},
     "output_type": "execute_result"
    }
   ],
   "source": [
    "response.status_code"
   ]
  },
  {
   "cell_type": "code",
   "execution_count": 19,
   "metadata": {},
   "outputs": [
    {
     "data": {
      "text/plain": [
       "{'instrument': 'EUR_USD',\n",
       " 'granularity': 'H1',\n",
       " 'candles': [{'complete': True,\n",
       "   'volume': 8562,\n",
       "   'time': '2022-05-06T11:00:00.000000000Z',\n",
       "   'bid': {'o': '1.05879', 'h': '1.05904', 'l': '1.05591', 'c': '1.05650'},\n",
       "   'mid': {'o': '1.05886', 'h': '1.05911', 'l': '1.05599', 'c': '1.05658'},\n",
       "   'ask': {'o': '1.05893', 'h': '1.05918', 'l': '1.05607', 'c': '1.05666'}},\n",
       "  {'complete': True,\n",
       "   'volume': 26820,\n",
       "   'time': '2022-05-06T12:00:00.000000000Z',\n",
       "   'bid': {'o': '1.05648', 'h': '1.05962', 'l': '1.05466', 'c': '1.05527'},\n",
       "   'mid': {'o': '1.05656', 'h': '1.05972', 'l': '1.05475', 'c': '1.05538'},\n",
       "   'ask': {'o': '1.05664', 'h': '1.05985', 'l': '1.05484', 'c': '1.05548'}},\n",
       "  {'complete': True,\n",
       "   'volume': 30665,\n",
       "   'time': '2022-05-06T13:00:00.000000000Z',\n",
       "   'bid': {'o': '1.05525', 'h': '1.05952', 'l': '1.05523', 'c': '1.05726'},\n",
       "   'mid': {'o': '1.05536', 'h': '1.05960', 'l': '1.05534', 'c': '1.05734'},\n",
       "   'ask': {'o': '1.05546', 'h': '1.05969', 'l': '1.05545', 'c': '1.05743'}},\n",
       "  {'complete': True,\n",
       "   'volume': 28079,\n",
       "   'time': '2022-05-06T14:00:00.000000000Z',\n",
       "   'bid': {'o': '1.05726', 'h': '1.05870', 'l': '1.05563', 'c': '1.05811'},\n",
       "   'mid': {'o': '1.05734', 'h': '1.05878', 'l': '1.05572', 'c': '1.05818'},\n",
       "   'ask': {'o': '1.05742', 'h': '1.05886', 'l': '1.05580', 'c': '1.05826'}},\n",
       "  {'complete': True,\n",
       "   'volume': 15992,\n",
       "   'time': '2022-05-06T15:00:00.000000000Z',\n",
       "   'bid': {'o': '1.05809', 'h': '1.05944', 'l': '1.05699', 'c': '1.05702'},\n",
       "   'mid': {'o': '1.05816', 'h': '1.05952', 'l': '1.05707', 'c': '1.05710'},\n",
       "   'ask': {'o': '1.05824', 'h': '1.05960', 'l': '1.05714', 'c': '1.05717'}},\n",
       "  {'complete': True,\n",
       "   'volume': 12819,\n",
       "   'time': '2022-05-06T16:00:00.000000000Z',\n",
       "   'bid': {'o': '1.05701', 'h': '1.05796', 'l': '1.05655', 'c': '1.05683'},\n",
       "   'mid': {'o': '1.05710', 'h': '1.05804', 'l': '1.05664', 'c': '1.05692'},\n",
       "   'ask': {'o': '1.05718', 'h': '1.05813', 'l': '1.05673', 'c': '1.05700'}},\n",
       "  {'complete': True,\n",
       "   'volume': 11251,\n",
       "   'time': '2022-05-06T17:00:00.000000000Z',\n",
       "   'bid': {'o': '1.05684', 'h': '1.05741', 'l': '1.05494', 'c': '1.05495'},\n",
       "   'mid': {'o': '1.05692', 'h': '1.05749', 'l': '1.05503', 'c': '1.05504'},\n",
       "   'ask': {'o': '1.05700', 'h': '1.05757', 'l': '1.05511', 'c': '1.05512'}},\n",
       "  {'complete': True,\n",
       "   'volume': 8434,\n",
       "   'time': '2022-05-06T18:00:00.000000000Z',\n",
       "   'bid': {'o': '1.05497', 'h': '1.05577', 'l': '1.05429', 'c': '1.05467'},\n",
       "   'mid': {'o': '1.05504', 'h': '1.05585', 'l': '1.05438', 'c': '1.05474'},\n",
       "   'ask': {'o': '1.05512', 'h': '1.05593', 'l': '1.05446', 'c': '1.05482'}},\n",
       "  {'complete': True,\n",
       "   'volume': 9052,\n",
       "   'time': '2022-05-06T19:00:00.000000000Z',\n",
       "   'bid': {'o': '1.05465', 'h': '1.05555', 'l': '1.05355', 'c': '1.05466'},\n",
       "   'mid': {'o': '1.05473', 'h': '1.05564', 'l': '1.05363', 'c': '1.05475'},\n",
       "   'ask': {'o': '1.05481', 'h': '1.05573', 'l': '1.05371', 'c': '1.05484'}},\n",
       "  {'complete': True,\n",
       "   'volume': 2626,\n",
       "   'time': '2022-05-06T20:00:00.000000000Z',\n",
       "   'bid': {'o': '1.05466', 'h': '1.05475', 'l': '1.05394', 'c': '1.05431'},\n",
       "   'mid': {'o': '1.05474', 'h': '1.05488', 'l': '1.05404', 'c': '1.05458'},\n",
       "   'ask': {'o': '1.05482', 'h': '1.05538', 'l': '1.05415', 'c': '1.05484'}}]}"
      ]
     },
     "execution_count": 19,
     "metadata": {},
     "output_type": "execute_result"
    }
   ],
   "source": [
    "response.json()"
   ]
  },
  {
   "cell_type": "code",
   "execution_count": 21,
   "metadata": {},
   "outputs": [],
   "source": [
    "data = response.json()"
   ]
  },
  {
   "cell_type": "code",
   "execution_count": 22,
   "metadata": {},
   "outputs": [
    {
     "data": {
      "text/plain": [
       "dict_keys(['instrument', 'granularity', 'candles'])"
      ]
     },
     "execution_count": 22,
     "metadata": {},
     "output_type": "execute_result"
    }
   ],
   "source": [
    "data.keys()"
   ]
  },
  {
   "cell_type": "code",
   "execution_count": 25,
   "metadata": {},
   "outputs": [
    {
     "data": {
      "text/plain": [
       "10"
      ]
     },
     "execution_count": 25,
     "metadata": {},
     "output_type": "execute_result"
    }
   ],
   "source": [
    "len(data['candles'])"
   ]
  },
  {
   "cell_type": "code",
   "execution_count": 28,
   "metadata": {},
   "outputs": [],
   "source": [
    "prices = ['mid','bid','ask']\n",
    "ohlc = ['o','h','l','c']"
   ]
  },
  {
   "cell_type": "code",
   "execution_count": 30,
   "metadata": {},
   "outputs": [
    {
     "name": "stdout",
     "output_type": "stream",
     "text": [
      "mid_o\n",
      "mid_h\n",
      "mid_l\n",
      "mid_c\n",
      "bid_o\n",
      "bid_h\n",
      "bid_l\n",
      "bid_c\n",
      "ask_o\n",
      "ask_h\n",
      "ask_l\n",
      "ask_c\n"
     ]
    }
   ],
   "source": [
    "for price in prices: \n",
    "    for oh in ohlc:\n",
    "        print(f\"{price}_{oh}\")"
   ]
  },
  {
   "cell_type": "code",
   "execution_count": 47,
   "metadata": {},
   "outputs": [
    {
     "data": {
      "text/plain": [
       "'1.05879'"
      ]
     },
     "execution_count": 47,
     "metadata": {},
     "output_type": "execute_result"
    }
   ],
   "source": [
    "data['candles'][0]['bid']['o']"
   ]
  },
  {
   "cell_type": "code",
   "execution_count": 54,
   "metadata": {},
   "outputs": [
    {
     "name": "stdout",
     "output_type": "stream",
     "text": [
      "{'time': '2022-05-06T11:00:00.000000000Z', 'volume': 8562, 'mid_o': '1.05886', 'mid_h': '1.05911', 'mid_l': '1.05599', 'mid_c': '1.05658', 'bid_o': '1.05879', 'bid_h': '1.05904', 'bid_l': '1.05591', 'bid_c': '1.05650', 'ask_o': '1.05893', 'ask_h': '1.05918', 'ask_l': '1.05607', 'ask_c': '1.05666'}\n"
     ]
    }
   ],
   "source": [
    "our_data = []\n",
    "for candle in data['candles']:\n",
    "    if candle['complete'] == False:\n",
    "        continue\n",
    "    new_dict = {}\n",
    "    new_dict['time'] = candle['time']\n",
    "    new_dict['volume'] = candle['volume']\n",
    "    for price in prices: \n",
    "        for oh in ohlc:\n",
    "            new_dict[f\"{price}_{oh}\"] = candle[price][oh]\n",
    "    our_data.append(new_dict)\n",
    "print(our_data[0])\n",
    "  "
   ]
  },
  {
   "cell_type": "code",
   "execution_count": 42,
   "metadata": {},
   "outputs": [
    {
     "data": {
      "text/plain": [
       "10"
      ]
     },
     "execution_count": 42,
     "metadata": {},
     "output_type": "execute_result"
    }
   ],
   "source": [
    "len(our_data)"
   ]
  },
  {
   "cell_type": "code",
   "execution_count": 55,
   "metadata": {},
   "outputs": [],
   "source": [
    "candles_df = pd.DataFrame.from_dict(our_data)"
   ]
  },
  {
   "cell_type": "code",
   "execution_count": 56,
   "metadata": {},
   "outputs": [
    {
     "data": {
      "text/html": [
       "<div>\n",
       "<style scoped>\n",
       "    .dataframe tbody tr th:only-of-type {\n",
       "        vertical-align: middle;\n",
       "    }\n",
       "\n",
       "    .dataframe tbody tr th {\n",
       "        vertical-align: top;\n",
       "    }\n",
       "\n",
       "    .dataframe thead th {\n",
       "        text-align: right;\n",
       "    }\n",
       "</style>\n",
       "<table border=\"1\" class=\"dataframe\">\n",
       "  <thead>\n",
       "    <tr style=\"text-align: right;\">\n",
       "      <th></th>\n",
       "      <th>time</th>\n",
       "      <th>volume</th>\n",
       "      <th>mid_o</th>\n",
       "      <th>mid_h</th>\n",
       "      <th>mid_l</th>\n",
       "      <th>mid_c</th>\n",
       "      <th>bid_o</th>\n",
       "      <th>bid_h</th>\n",
       "      <th>bid_l</th>\n",
       "      <th>bid_c</th>\n",
       "      <th>ask_o</th>\n",
       "      <th>ask_h</th>\n",
       "      <th>ask_l</th>\n",
       "      <th>ask_c</th>\n",
       "    </tr>\n",
       "  </thead>\n",
       "  <tbody>\n",
       "    <tr>\n",
       "      <th>0</th>\n",
       "      <td>2022-05-06T11:00:00.000000000Z</td>\n",
       "      <td>8562</td>\n",
       "      <td>1.05886</td>\n",
       "      <td>1.05911</td>\n",
       "      <td>1.05599</td>\n",
       "      <td>1.05658</td>\n",
       "      <td>1.05879</td>\n",
       "      <td>1.05904</td>\n",
       "      <td>1.05591</td>\n",
       "      <td>1.05650</td>\n",
       "      <td>1.05893</td>\n",
       "      <td>1.05918</td>\n",
       "      <td>1.05607</td>\n",
       "      <td>1.05666</td>\n",
       "    </tr>\n",
       "    <tr>\n",
       "      <th>1</th>\n",
       "      <td>2022-05-06T12:00:00.000000000Z</td>\n",
       "      <td>26820</td>\n",
       "      <td>1.05656</td>\n",
       "      <td>1.05972</td>\n",
       "      <td>1.05475</td>\n",
       "      <td>1.05538</td>\n",
       "      <td>1.05648</td>\n",
       "      <td>1.05962</td>\n",
       "      <td>1.05466</td>\n",
       "      <td>1.05527</td>\n",
       "      <td>1.05664</td>\n",
       "      <td>1.05985</td>\n",
       "      <td>1.05484</td>\n",
       "      <td>1.05548</td>\n",
       "    </tr>\n",
       "    <tr>\n",
       "      <th>2</th>\n",
       "      <td>2022-05-06T13:00:00.000000000Z</td>\n",
       "      <td>30665</td>\n",
       "      <td>1.05536</td>\n",
       "      <td>1.05960</td>\n",
       "      <td>1.05534</td>\n",
       "      <td>1.05734</td>\n",
       "      <td>1.05525</td>\n",
       "      <td>1.05952</td>\n",
       "      <td>1.05523</td>\n",
       "      <td>1.05726</td>\n",
       "      <td>1.05546</td>\n",
       "      <td>1.05969</td>\n",
       "      <td>1.05545</td>\n",
       "      <td>1.05743</td>\n",
       "    </tr>\n",
       "    <tr>\n",
       "      <th>3</th>\n",
       "      <td>2022-05-06T14:00:00.000000000Z</td>\n",
       "      <td>28079</td>\n",
       "      <td>1.05734</td>\n",
       "      <td>1.05878</td>\n",
       "      <td>1.05572</td>\n",
       "      <td>1.05818</td>\n",
       "      <td>1.05726</td>\n",
       "      <td>1.05870</td>\n",
       "      <td>1.05563</td>\n",
       "      <td>1.05811</td>\n",
       "      <td>1.05742</td>\n",
       "      <td>1.05886</td>\n",
       "      <td>1.05580</td>\n",
       "      <td>1.05826</td>\n",
       "    </tr>\n",
       "    <tr>\n",
       "      <th>4</th>\n",
       "      <td>2022-05-06T15:00:00.000000000Z</td>\n",
       "      <td>15992</td>\n",
       "      <td>1.05816</td>\n",
       "      <td>1.05952</td>\n",
       "      <td>1.05707</td>\n",
       "      <td>1.05710</td>\n",
       "      <td>1.05809</td>\n",
       "      <td>1.05944</td>\n",
       "      <td>1.05699</td>\n",
       "      <td>1.05702</td>\n",
       "      <td>1.05824</td>\n",
       "      <td>1.05960</td>\n",
       "      <td>1.05714</td>\n",
       "      <td>1.05717</td>\n",
       "    </tr>\n",
       "    <tr>\n",
       "      <th>5</th>\n",
       "      <td>2022-05-06T16:00:00.000000000Z</td>\n",
       "      <td>12819</td>\n",
       "      <td>1.05710</td>\n",
       "      <td>1.05804</td>\n",
       "      <td>1.05664</td>\n",
       "      <td>1.05692</td>\n",
       "      <td>1.05701</td>\n",
       "      <td>1.05796</td>\n",
       "      <td>1.05655</td>\n",
       "      <td>1.05683</td>\n",
       "      <td>1.05718</td>\n",
       "      <td>1.05813</td>\n",
       "      <td>1.05673</td>\n",
       "      <td>1.05700</td>\n",
       "    </tr>\n",
       "    <tr>\n",
       "      <th>6</th>\n",
       "      <td>2022-05-06T17:00:00.000000000Z</td>\n",
       "      <td>11251</td>\n",
       "      <td>1.05692</td>\n",
       "      <td>1.05749</td>\n",
       "      <td>1.05503</td>\n",
       "      <td>1.05504</td>\n",
       "      <td>1.05684</td>\n",
       "      <td>1.05741</td>\n",
       "      <td>1.05494</td>\n",
       "      <td>1.05495</td>\n",
       "      <td>1.05700</td>\n",
       "      <td>1.05757</td>\n",
       "      <td>1.05511</td>\n",
       "      <td>1.05512</td>\n",
       "    </tr>\n",
       "    <tr>\n",
       "      <th>7</th>\n",
       "      <td>2022-05-06T18:00:00.000000000Z</td>\n",
       "      <td>8434</td>\n",
       "      <td>1.05504</td>\n",
       "      <td>1.05585</td>\n",
       "      <td>1.05438</td>\n",
       "      <td>1.05474</td>\n",
       "      <td>1.05497</td>\n",
       "      <td>1.05577</td>\n",
       "      <td>1.05429</td>\n",
       "      <td>1.05467</td>\n",
       "      <td>1.05512</td>\n",
       "      <td>1.05593</td>\n",
       "      <td>1.05446</td>\n",
       "      <td>1.05482</td>\n",
       "    </tr>\n",
       "    <tr>\n",
       "      <th>8</th>\n",
       "      <td>2022-05-06T19:00:00.000000000Z</td>\n",
       "      <td>9052</td>\n",
       "      <td>1.05473</td>\n",
       "      <td>1.05564</td>\n",
       "      <td>1.05363</td>\n",
       "      <td>1.05475</td>\n",
       "      <td>1.05465</td>\n",
       "      <td>1.05555</td>\n",
       "      <td>1.05355</td>\n",
       "      <td>1.05466</td>\n",
       "      <td>1.05481</td>\n",
       "      <td>1.05573</td>\n",
       "      <td>1.05371</td>\n",
       "      <td>1.05484</td>\n",
       "    </tr>\n",
       "    <tr>\n",
       "      <th>9</th>\n",
       "      <td>2022-05-06T20:00:00.000000000Z</td>\n",
       "      <td>2626</td>\n",
       "      <td>1.05474</td>\n",
       "      <td>1.05488</td>\n",
       "      <td>1.05404</td>\n",
       "      <td>1.05458</td>\n",
       "      <td>1.05466</td>\n",
       "      <td>1.05475</td>\n",
       "      <td>1.05394</td>\n",
       "      <td>1.05431</td>\n",
       "      <td>1.05482</td>\n",
       "      <td>1.05538</td>\n",
       "      <td>1.05415</td>\n",
       "      <td>1.05484</td>\n",
       "    </tr>\n",
       "  </tbody>\n",
       "</table>\n",
       "</div>"
      ],
      "text/plain": [
       "                             time  volume    mid_o    mid_h    mid_l    mid_c  \\\n",
       "0  2022-05-06T11:00:00.000000000Z    8562  1.05886  1.05911  1.05599  1.05658   \n",
       "1  2022-05-06T12:00:00.000000000Z   26820  1.05656  1.05972  1.05475  1.05538   \n",
       "2  2022-05-06T13:00:00.000000000Z   30665  1.05536  1.05960  1.05534  1.05734   \n",
       "3  2022-05-06T14:00:00.000000000Z   28079  1.05734  1.05878  1.05572  1.05818   \n",
       "4  2022-05-06T15:00:00.000000000Z   15992  1.05816  1.05952  1.05707  1.05710   \n",
       "5  2022-05-06T16:00:00.000000000Z   12819  1.05710  1.05804  1.05664  1.05692   \n",
       "6  2022-05-06T17:00:00.000000000Z   11251  1.05692  1.05749  1.05503  1.05504   \n",
       "7  2022-05-06T18:00:00.000000000Z    8434  1.05504  1.05585  1.05438  1.05474   \n",
       "8  2022-05-06T19:00:00.000000000Z    9052  1.05473  1.05564  1.05363  1.05475   \n",
       "9  2022-05-06T20:00:00.000000000Z    2626  1.05474  1.05488  1.05404  1.05458   \n",
       "\n",
       "     bid_o    bid_h    bid_l    bid_c    ask_o    ask_h    ask_l    ask_c  \n",
       "0  1.05879  1.05904  1.05591  1.05650  1.05893  1.05918  1.05607  1.05666  \n",
       "1  1.05648  1.05962  1.05466  1.05527  1.05664  1.05985  1.05484  1.05548  \n",
       "2  1.05525  1.05952  1.05523  1.05726  1.05546  1.05969  1.05545  1.05743  \n",
       "3  1.05726  1.05870  1.05563  1.05811  1.05742  1.05886  1.05580  1.05826  \n",
       "4  1.05809  1.05944  1.05699  1.05702  1.05824  1.05960  1.05714  1.05717  \n",
       "5  1.05701  1.05796  1.05655  1.05683  1.05718  1.05813  1.05673  1.05700  \n",
       "6  1.05684  1.05741  1.05494  1.05495  1.05700  1.05757  1.05511  1.05512  \n",
       "7  1.05497  1.05577  1.05429  1.05467  1.05512  1.05593  1.05446  1.05482  \n",
       "8  1.05465  1.05555  1.05355  1.05466  1.05481  1.05573  1.05371  1.05484  \n",
       "9  1.05466  1.05475  1.05394  1.05431  1.05482  1.05538  1.05415  1.05484  "
      ]
     },
     "execution_count": 56,
     "metadata": {},
     "output_type": "execute_result"
    }
   ],
   "source": [
    "candles_df"
   ]
  },
  {
   "cell_type": "code",
   "execution_count": 57,
   "metadata": {},
   "outputs": [],
   "source": [
    "candles_df.to_pickle('EUR_USD_H1.pkl')"
   ]
  },
  {
   "cell_type": "code",
   "execution_count": 58,
   "metadata": {},
   "outputs": [],
   "source": [
    "test_df = pd.read_pickle('EUR_USD_H1.pkl')"
   ]
  },
  {
   "cell_type": "code",
   "execution_count": 59,
   "metadata": {},
   "outputs": [
    {
     "data": {
      "text/html": [
       "<div>\n",
       "<style scoped>\n",
       "    .dataframe tbody tr th:only-of-type {\n",
       "        vertical-align: middle;\n",
       "    }\n",
       "\n",
       "    .dataframe tbody tr th {\n",
       "        vertical-align: top;\n",
       "    }\n",
       "\n",
       "    .dataframe thead th {\n",
       "        text-align: right;\n",
       "    }\n",
       "</style>\n",
       "<table border=\"1\" class=\"dataframe\">\n",
       "  <thead>\n",
       "    <tr style=\"text-align: right;\">\n",
       "      <th></th>\n",
       "      <th>time</th>\n",
       "      <th>volume</th>\n",
       "      <th>mid_o</th>\n",
       "      <th>mid_h</th>\n",
       "      <th>mid_l</th>\n",
       "      <th>mid_c</th>\n",
       "      <th>bid_o</th>\n",
       "      <th>bid_h</th>\n",
       "      <th>bid_l</th>\n",
       "      <th>bid_c</th>\n",
       "      <th>ask_o</th>\n",
       "      <th>ask_h</th>\n",
       "      <th>ask_l</th>\n",
       "      <th>ask_c</th>\n",
       "    </tr>\n",
       "  </thead>\n",
       "  <tbody>\n",
       "    <tr>\n",
       "      <th>0</th>\n",
       "      <td>2022-05-06T11:00:00.000000000Z</td>\n",
       "      <td>8562</td>\n",
       "      <td>1.05886</td>\n",
       "      <td>1.05911</td>\n",
       "      <td>1.05599</td>\n",
       "      <td>1.05658</td>\n",
       "      <td>1.05879</td>\n",
       "      <td>1.05904</td>\n",
       "      <td>1.05591</td>\n",
       "      <td>1.05650</td>\n",
       "      <td>1.05893</td>\n",
       "      <td>1.05918</td>\n",
       "      <td>1.05607</td>\n",
       "      <td>1.05666</td>\n",
       "    </tr>\n",
       "    <tr>\n",
       "      <th>1</th>\n",
       "      <td>2022-05-06T12:00:00.000000000Z</td>\n",
       "      <td>26820</td>\n",
       "      <td>1.05656</td>\n",
       "      <td>1.05972</td>\n",
       "      <td>1.05475</td>\n",
       "      <td>1.05538</td>\n",
       "      <td>1.05648</td>\n",
       "      <td>1.05962</td>\n",
       "      <td>1.05466</td>\n",
       "      <td>1.05527</td>\n",
       "      <td>1.05664</td>\n",
       "      <td>1.05985</td>\n",
       "      <td>1.05484</td>\n",
       "      <td>1.05548</td>\n",
       "    </tr>\n",
       "    <tr>\n",
       "      <th>2</th>\n",
       "      <td>2022-05-06T13:00:00.000000000Z</td>\n",
       "      <td>30665</td>\n",
       "      <td>1.05536</td>\n",
       "      <td>1.05960</td>\n",
       "      <td>1.05534</td>\n",
       "      <td>1.05734</td>\n",
       "      <td>1.05525</td>\n",
       "      <td>1.05952</td>\n",
       "      <td>1.05523</td>\n",
       "      <td>1.05726</td>\n",
       "      <td>1.05546</td>\n",
       "      <td>1.05969</td>\n",
       "      <td>1.05545</td>\n",
       "      <td>1.05743</td>\n",
       "    </tr>\n",
       "    <tr>\n",
       "      <th>3</th>\n",
       "      <td>2022-05-06T14:00:00.000000000Z</td>\n",
       "      <td>28079</td>\n",
       "      <td>1.05734</td>\n",
       "      <td>1.05878</td>\n",
       "      <td>1.05572</td>\n",
       "      <td>1.05818</td>\n",
       "      <td>1.05726</td>\n",
       "      <td>1.05870</td>\n",
       "      <td>1.05563</td>\n",
       "      <td>1.05811</td>\n",
       "      <td>1.05742</td>\n",
       "      <td>1.05886</td>\n",
       "      <td>1.05580</td>\n",
       "      <td>1.05826</td>\n",
       "    </tr>\n",
       "    <tr>\n",
       "      <th>4</th>\n",
       "      <td>2022-05-06T15:00:00.000000000Z</td>\n",
       "      <td>15992</td>\n",
       "      <td>1.05816</td>\n",
       "      <td>1.05952</td>\n",
       "      <td>1.05707</td>\n",
       "      <td>1.05710</td>\n",
       "      <td>1.05809</td>\n",
       "      <td>1.05944</td>\n",
       "      <td>1.05699</td>\n",
       "      <td>1.05702</td>\n",
       "      <td>1.05824</td>\n",
       "      <td>1.05960</td>\n",
       "      <td>1.05714</td>\n",
       "      <td>1.05717</td>\n",
       "    </tr>\n",
       "    <tr>\n",
       "      <th>5</th>\n",
       "      <td>2022-05-06T16:00:00.000000000Z</td>\n",
       "      <td>12819</td>\n",
       "      <td>1.05710</td>\n",
       "      <td>1.05804</td>\n",
       "      <td>1.05664</td>\n",
       "      <td>1.05692</td>\n",
       "      <td>1.05701</td>\n",
       "      <td>1.05796</td>\n",
       "      <td>1.05655</td>\n",
       "      <td>1.05683</td>\n",
       "      <td>1.05718</td>\n",
       "      <td>1.05813</td>\n",
       "      <td>1.05673</td>\n",
       "      <td>1.05700</td>\n",
       "    </tr>\n",
       "    <tr>\n",
       "      <th>6</th>\n",
       "      <td>2022-05-06T17:00:00.000000000Z</td>\n",
       "      <td>11251</td>\n",
       "      <td>1.05692</td>\n",
       "      <td>1.05749</td>\n",
       "      <td>1.05503</td>\n",
       "      <td>1.05504</td>\n",
       "      <td>1.05684</td>\n",
       "      <td>1.05741</td>\n",
       "      <td>1.05494</td>\n",
       "      <td>1.05495</td>\n",
       "      <td>1.05700</td>\n",
       "      <td>1.05757</td>\n",
       "      <td>1.05511</td>\n",
       "      <td>1.05512</td>\n",
       "    </tr>\n",
       "    <tr>\n",
       "      <th>7</th>\n",
       "      <td>2022-05-06T18:00:00.000000000Z</td>\n",
       "      <td>8434</td>\n",
       "      <td>1.05504</td>\n",
       "      <td>1.05585</td>\n",
       "      <td>1.05438</td>\n",
       "      <td>1.05474</td>\n",
       "      <td>1.05497</td>\n",
       "      <td>1.05577</td>\n",
       "      <td>1.05429</td>\n",
       "      <td>1.05467</td>\n",
       "      <td>1.05512</td>\n",
       "      <td>1.05593</td>\n",
       "      <td>1.05446</td>\n",
       "      <td>1.05482</td>\n",
       "    </tr>\n",
       "    <tr>\n",
       "      <th>8</th>\n",
       "      <td>2022-05-06T19:00:00.000000000Z</td>\n",
       "      <td>9052</td>\n",
       "      <td>1.05473</td>\n",
       "      <td>1.05564</td>\n",
       "      <td>1.05363</td>\n",
       "      <td>1.05475</td>\n",
       "      <td>1.05465</td>\n",
       "      <td>1.05555</td>\n",
       "      <td>1.05355</td>\n",
       "      <td>1.05466</td>\n",
       "      <td>1.05481</td>\n",
       "      <td>1.05573</td>\n",
       "      <td>1.05371</td>\n",
       "      <td>1.05484</td>\n",
       "    </tr>\n",
       "    <tr>\n",
       "      <th>9</th>\n",
       "      <td>2022-05-06T20:00:00.000000000Z</td>\n",
       "      <td>2626</td>\n",
       "      <td>1.05474</td>\n",
       "      <td>1.05488</td>\n",
       "      <td>1.05404</td>\n",
       "      <td>1.05458</td>\n",
       "      <td>1.05466</td>\n",
       "      <td>1.05475</td>\n",
       "      <td>1.05394</td>\n",
       "      <td>1.05431</td>\n",
       "      <td>1.05482</td>\n",
       "      <td>1.05538</td>\n",
       "      <td>1.05415</td>\n",
       "      <td>1.05484</td>\n",
       "    </tr>\n",
       "  </tbody>\n",
       "</table>\n",
       "</div>"
      ],
      "text/plain": [
       "                             time  volume    mid_o    mid_h    mid_l    mid_c  \\\n",
       "0  2022-05-06T11:00:00.000000000Z    8562  1.05886  1.05911  1.05599  1.05658   \n",
       "1  2022-05-06T12:00:00.000000000Z   26820  1.05656  1.05972  1.05475  1.05538   \n",
       "2  2022-05-06T13:00:00.000000000Z   30665  1.05536  1.05960  1.05534  1.05734   \n",
       "3  2022-05-06T14:00:00.000000000Z   28079  1.05734  1.05878  1.05572  1.05818   \n",
       "4  2022-05-06T15:00:00.000000000Z   15992  1.05816  1.05952  1.05707  1.05710   \n",
       "5  2022-05-06T16:00:00.000000000Z   12819  1.05710  1.05804  1.05664  1.05692   \n",
       "6  2022-05-06T17:00:00.000000000Z   11251  1.05692  1.05749  1.05503  1.05504   \n",
       "7  2022-05-06T18:00:00.000000000Z    8434  1.05504  1.05585  1.05438  1.05474   \n",
       "8  2022-05-06T19:00:00.000000000Z    9052  1.05473  1.05564  1.05363  1.05475   \n",
       "9  2022-05-06T20:00:00.000000000Z    2626  1.05474  1.05488  1.05404  1.05458   \n",
       "\n",
       "     bid_o    bid_h    bid_l    bid_c    ask_o    ask_h    ask_l    ask_c  \n",
       "0  1.05879  1.05904  1.05591  1.05650  1.05893  1.05918  1.05607  1.05666  \n",
       "1  1.05648  1.05962  1.05466  1.05527  1.05664  1.05985  1.05484  1.05548  \n",
       "2  1.05525  1.05952  1.05523  1.05726  1.05546  1.05969  1.05545  1.05743  \n",
       "3  1.05726  1.05870  1.05563  1.05811  1.05742  1.05886  1.05580  1.05826  \n",
       "4  1.05809  1.05944  1.05699  1.05702  1.05824  1.05960  1.05714  1.05717  \n",
       "5  1.05701  1.05796  1.05655  1.05683  1.05718  1.05813  1.05673  1.05700  \n",
       "6  1.05684  1.05741  1.05494  1.05495  1.05700  1.05757  1.05511  1.05512  \n",
       "7  1.05497  1.05577  1.05429  1.05467  1.05512  1.05593  1.05446  1.05482  \n",
       "8  1.05465  1.05555  1.05355  1.05466  1.05481  1.05573  1.05371  1.05484  \n",
       "9  1.05466  1.05475  1.05394  1.05431  1.05482  1.05538  1.05415  1.05484  "
      ]
     },
     "execution_count": 59,
     "metadata": {},
     "output_type": "execute_result"
    }
   ],
   "source": [
    "test_df"
   ]
  },
  {
   "cell_type": "code",
   "execution_count": 32,
   "metadata": {},
   "outputs": [],
   "source": [
    "class Dog():\n",
    "    def __init__(self,name,age):\n",
    "        print(\"Hello\")\n",
    "        self.name = name\n",
    "        self.age = age\n",
    "\n",
    "    def __repr__(self):\n",
    "        return str(vars(self))\n",
    "\n",
    "    def woof(self):\n",
    "        print(\"Woof\")\n",
    "\n",
    "    @classmethod\n",
    "    def cls_woof(cls):\n",
    "        print(\"CLS Woof\")"
   ]
  },
  {
   "cell_type": "code",
   "execution_count": 29,
   "metadata": {},
   "outputs": [
    {
     "name": "stdout",
     "output_type": "stream",
     "text": [
      "Hello\n"
     ]
    }
   ],
   "source": [
    "d = Dog(\"Fido\", 99)"
   ]
  },
  {
   "cell_type": "code",
   "execution_count": 30,
   "metadata": {},
   "outputs": [
    {
     "name": "stdout",
     "output_type": "stream",
     "text": [
      "Woof\n"
     ]
    }
   ],
   "source": [
    "d.woof()"
   ]
  },
  {
   "cell_type": "code",
   "execution_count": 44,
   "metadata": {},
   "outputs": [
    {
     "data": {
      "text/plain": [
       "{'name': 'Fido', 'age': 99}"
      ]
     },
     "execution_count": 44,
     "metadata": {},
     "output_type": "execute_result"
    }
   ],
   "source": [
    "d"
   ]
  },
  {
   "cell_type": "code",
   "execution_count": 36,
   "metadata": {},
   "outputs": [
    {
     "name": "stdout",
     "output_type": "stream",
     "text": [
      "CLS Woof\n"
     ]
    }
   ],
   "source": [
    "Dog.cls_woof()"
   ]
  },
  {
   "cell_type": "code",
   "execution_count": null,
   "metadata": {},
   "outputs": [],
   "source": []
  },
  {
   "cell_type": "code",
   "execution_count": null,
   "metadata": {},
   "outputs": [],
   "source": []
  }
 ],
 "metadata": {
  "interpreter": {
   "hash": "584b053f5fcd6e580bc48825109415756afee0b2587f5bc4e2b85becab41e5b7"
  },
  "kernelspec": {
   "display_name": "Python 3.10.4 ('venv': venv)",
   "language": "python",
   "name": "python3"
  },
  "language_info": {
   "codemirror_mode": {
    "name": "ipython",
    "version": 3
   },
   "file_extension": ".py",
   "mimetype": "text/x-python",
   "name": "python",
   "nbconvert_exporter": "python",
   "pygments_lexer": "ipython3",
   "version": "3.10.4"
  },
  "orig_nbformat": 4
 },
 "nbformat": 4,
 "nbformat_minor": 2
}
